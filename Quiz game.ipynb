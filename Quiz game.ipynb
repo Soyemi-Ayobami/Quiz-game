{
 "cells": [
  {
   "cell_type": "code",
   "execution_count": 1,
   "id": "b150fa0b",
   "metadata": {},
   "outputs": [
    {
     "name": "stdout",
     "output_type": "stream",
     "text": [
      "Welcome to my computer quiz! \n",
      "Do you want to play? yes\n",
      "Okay! Let's play :)\n",
      "What is PCA? principal component analysis\n",
      "Correct!\n",
      "What does MCA stand for? multiple correspondence analysis\n",
      "Correct!\n",
      "What does OOP stand for? object oriented programming\n",
      "Correct!\n",
      "What does OLAP stand for? online analytical processing\n",
      "Correct!\n",
      "You got 4 questions correct!\n",
      "You got100.0%.\n"
     ]
    }
   ],
   "source": [
    "print('Welcome to my computer quiz! ')\n",
    "\n",
    "playing = input('Do you want to play? ')\n",
    "\n",
    "if playing != 'yes':\n",
    "    quit()\n",
    "\n",
    "print(\"Okay! Let's play :)\")\n",
    "score = 0\n",
    "\n",
    "answer = input('What is PCA? ')\n",
    "if answer == 'principal component analysis':\n",
    "    print('Correct!')\n",
    "    score += 1\n",
    "else:\n",
    "  print('incorrect!')\n",
    "\n",
    "answer = input('What does MCA stand for? ')\n",
    "if answer == 'multiple correspondence analysis':\n",
    "    print('Correct!')\n",
    "    score += 1\n",
    "else:\n",
    "  print('incorrect!')\n",
    "\n",
    "answer = input('What does OOP stand for? ')\n",
    "if answer == 'object oriented programming':\n",
    "    print('Correct!')\n",
    "    score += 1\n",
    "else:\n",
    "  print('incorrect!')\n",
    "\n",
    "answer = input('What does OLAP stand for? ')\n",
    "if answer == 'online analytical processing':\n",
    "    print('Correct!')\n",
    "    score += 1\n",
    "else:\n",
    "  print('incorrect!')\n",
    "\n",
    "print('You got ' + str(score) + ' questions correct!')\n",
    "print('You got'  + str((score / 4) * 100) + '%.')"
   ]
  },
  {
   "cell_type": "code",
   "execution_count": null,
   "id": "65123e44",
   "metadata": {},
   "outputs": [],
   "source": []
  }
 ],
 "metadata": {
  "kernelspec": {
   "display_name": "Python 3 (ipykernel)",
   "language": "python",
   "name": "python3"
  },
  "language_info": {
   "codemirror_mode": {
    "name": "ipython",
    "version": 3
   },
   "file_extension": ".py",
   "mimetype": "text/x-python",
   "name": "python",
   "nbconvert_exporter": "python",
   "pygments_lexer": "ipython3",
   "version": "3.9.12"
  }
 },
 "nbformat": 4,
 "nbformat_minor": 5
}
